{
 "cells": [
  {
   "cell_type": "markdown",
   "metadata": {},
   "source": [
    "<a id=\"0\"></a>\n",
    "# Table of Contents\n",
    "\n",
    "* [Company structure](#part1)\n",
    "* [Employees](#part2)\n",
    "* [Part 3](#part3)"
   ]
  },
  {
   "cell_type": "markdown",
   "metadata": {},
   "source": []
  },
  {
   "cell_type": "code",
   "execution_count": 101,
   "metadata": {},
   "outputs": [],
   "source": [
    "from sqlalchemy import create_engine\n",
    "import pandas as pd\n",
    "import numpy as np\n",
    "import matplotlib.pyplot as plt\n",
    "import seaborn as sns\n",
    "import plotly.express as px\n",
    "import plotly.graph_objects as go\n",
    "import plotly.io as pio\n",
    "import kaleido"
   ]
  },
  {
   "cell_type": "code",
   "execution_count": 411,
   "metadata": {},
   "outputs": [],
   "source": [
    "sns.set_context(\"notebook\")\n",
    "sns.set_palette(\"inferno\")"
   ]
  },
  {
   "cell_type": "code",
   "execution_count": 3,
   "metadata": {},
   "outputs": [],
   "source": [
    "engine = create_engine(\"mssql+pyodbc://localhost/AdventureWorks2022?trusted_connection=yes&Encrypt=no&driver=ODBC+Driver+18+for+SQL+Server\")\n",
    "connection = engine.connect()"
   ]
  },
  {
   "cell_type": "markdown",
   "metadata": {},
   "source": [
    "## <a class=\"anchor\" id=\"part1\">Company structure</a>\n",
    "[back to top](#0)"
   ]
  },
  {
   "cell_type": "markdown",
   "metadata": {},
   "source": [
    "Number of employees by group and department:"
   ]
  },
  {
   "cell_type": "code",
   "execution_count": 116,
   "metadata": {},
   "outputs": [
    {
     "data": {
      "text/html": [
       "<div>\n",
       "<style scoped>\n",
       "    .dataframe tbody tr th:only-of-type {\n",
       "        vertical-align: middle;\n",
       "    }\n",
       "\n",
       "    .dataframe tbody tr th {\n",
       "        vertical-align: top;\n",
       "    }\n",
       "\n",
       "    .dataframe thead th {\n",
       "        text-align: right;\n",
       "    }\n",
       "</style>\n",
       "<table border=\"1\" class=\"dataframe\">\n",
       "  <thead>\n",
       "    <tr style=\"text-align: right;\">\n",
       "      <th></th>\n",
       "      <th>Group</th>\n",
       "      <th>Department</th>\n",
       "      <th>Employee count</th>\n",
       "    </tr>\n",
       "  </thead>\n",
       "  <tbody>\n",
       "    <tr>\n",
       "      <th>0</th>\n",
       "      <td>Executive General and Administration</td>\n",
       "      <td>Executive</td>\n",
       "      <td>2</td>\n",
       "    </tr>\n",
       "    <tr>\n",
       "      <th>1</th>\n",
       "      <td>Executive General and Administration</td>\n",
       "      <td>Facilities and Maintenance</td>\n",
       "      <td>7</td>\n",
       "    </tr>\n",
       "    <tr>\n",
       "      <th>2</th>\n",
       "      <td>Executive General and Administration</td>\n",
       "      <td>Finance</td>\n",
       "      <td>11</td>\n",
       "    </tr>\n",
       "    <tr>\n",
       "      <th>3</th>\n",
       "      <td>Executive General and Administration</td>\n",
       "      <td>Human Resources</td>\n",
       "      <td>6</td>\n",
       "    </tr>\n",
       "    <tr>\n",
       "      <th>4</th>\n",
       "      <td>Executive General and Administration</td>\n",
       "      <td>Information Services</td>\n",
       "      <td>10</td>\n",
       "    </tr>\n",
       "    <tr>\n",
       "      <th>5</th>\n",
       "      <td>Inventory Management</td>\n",
       "      <td>Purchasing</td>\n",
       "      <td>13</td>\n",
       "    </tr>\n",
       "    <tr>\n",
       "      <th>6</th>\n",
       "      <td>Inventory Management</td>\n",
       "      <td>Shipping and Receiving</td>\n",
       "      <td>6</td>\n",
       "    </tr>\n",
       "    <tr>\n",
       "      <th>7</th>\n",
       "      <td>Manufacturing</td>\n",
       "      <td>Production</td>\n",
       "      <td>180</td>\n",
       "    </tr>\n",
       "    <tr>\n",
       "      <th>8</th>\n",
       "      <td>Manufacturing</td>\n",
       "      <td>Production Control</td>\n",
       "      <td>6</td>\n",
       "    </tr>\n",
       "    <tr>\n",
       "      <th>9</th>\n",
       "      <td>Quality Assurance</td>\n",
       "      <td>Document Control</td>\n",
       "      <td>5</td>\n",
       "    </tr>\n",
       "    <tr>\n",
       "      <th>10</th>\n",
       "      <td>Quality Assurance</td>\n",
       "      <td>Quality Assurance</td>\n",
       "      <td>7</td>\n",
       "    </tr>\n",
       "    <tr>\n",
       "      <th>11</th>\n",
       "      <td>Research and Development</td>\n",
       "      <td>Engineering</td>\n",
       "      <td>7</td>\n",
       "    </tr>\n",
       "    <tr>\n",
       "      <th>12</th>\n",
       "      <td>Research and Development</td>\n",
       "      <td>Research and Development</td>\n",
       "      <td>4</td>\n",
       "    </tr>\n",
       "    <tr>\n",
       "      <th>13</th>\n",
       "      <td>Research and Development</td>\n",
       "      <td>Tool Design</td>\n",
       "      <td>4</td>\n",
       "    </tr>\n",
       "    <tr>\n",
       "      <th>14</th>\n",
       "      <td>Sales and Marketing</td>\n",
       "      <td>Marketing</td>\n",
       "      <td>10</td>\n",
       "    </tr>\n",
       "    <tr>\n",
       "      <th>15</th>\n",
       "      <td>Sales and Marketing</td>\n",
       "      <td>Sales</td>\n",
       "      <td>18</td>\n",
       "    </tr>\n",
       "  </tbody>\n",
       "</table>\n",
       "</div>"
      ],
      "text/plain": [
       "                                   Group                  Department  \\\n",
       "0   Executive General and Administration                   Executive   \n",
       "1   Executive General and Administration  Facilities and Maintenance   \n",
       "2   Executive General and Administration                     Finance   \n",
       "3   Executive General and Administration             Human Resources   \n",
       "4   Executive General and Administration        Information Services   \n",
       "5                   Inventory Management                  Purchasing   \n",
       "6                   Inventory Management      Shipping and Receiving   \n",
       "7                          Manufacturing                  Production   \n",
       "8                          Manufacturing          Production Control   \n",
       "9                      Quality Assurance            Document Control   \n",
       "10                     Quality Assurance           Quality Assurance   \n",
       "11              Research and Development                 Engineering   \n",
       "12              Research and Development    Research and Development   \n",
       "13              Research and Development                 Tool Design   \n",
       "14                   Sales and Marketing                   Marketing   \n",
       "15                   Sales and Marketing                       Sales   \n",
       "\n",
       "    Employee count  \n",
       "0                2  \n",
       "1                7  \n",
       "2               11  \n",
       "3                6  \n",
       "4               10  \n",
       "5               13  \n",
       "6                6  \n",
       "7              180  \n",
       "8                6  \n",
       "9                5  \n",
       "10               7  \n",
       "11               7  \n",
       "12               4  \n",
       "13               4  \n",
       "14              10  \n",
       "15              18  "
      ]
     },
     "execution_count": 116,
     "metadata": {},
     "output_type": "execute_result"
    }
   ],
   "source": [
    "employees_by_department = pd.read_sql(sql=\"\"\"\n",
    "SELECT \n",
    "\ta.[GroupName] AS [Group],\n",
    "\ta.[Name] AS Department,\n",
    "\tCAST(COUNT(*) AS INT) AS 'Employee count'\n",
    "\t\n",
    "FROM HumanResources.Department AS a INNER JOIN HumanResources.EmployeeDepartmentHistory AS b\n",
    "\tON a.DepartmentID = b.DepartmentID INNER JOIN HumanResources.Employee AS c\n",
    "\tON b.BusinessEntityID = c.BusinessEntityID\n",
    "GROUP BY a.[Name], a.[GroupName]\n",
    "ORDER BY a.[GroupName], a.[Name]\n",
    ";\n",
    "\"\"\" , con=connection)\n",
    "employees_by_department"
   ]
  },
  {
   "cell_type": "code",
   "execution_count": 412,
   "metadata": {},
   "outputs": [
    {
     "data": {
      "image/png": "[encoded data removed]",
      "text/plain": [
       "<Figure size 1050x1000 with 6 Axes>"
      ]
     },
     "metadata": {},
     "output_type": "display_data"
    }
   ],
   "source": [
    "g = sns.catplot(data=employees_by_department, y=\"Employee count\", x=\"Department\", \n",
    "                col=\"Group\", col_wrap=3, kind=\"bar\", hue=\"Group\", sharex=False, sharey=False, legend=False, aspect=0.7)\n",
    "g.set_xticklabels(rotation=45, ha='right')\n",
    "\n",
    "g.set(xlabel=None)\n",
    "g.set_titles(\"{col_name}\")\n",
    "g.tick_params()\n",
    "\n",
    "for ax in g.axes.flat:\n",
    "    for container in ax.containers:\n",
    "        ax.bar_label(container, label_type='edge')\n",
    "    ax.margins(y=0.1)\n",
    "\n",
    "plt.tight_layout()\n",
    "plt.show()"
   ]
  },
  {
   "cell_type": "markdown",
   "metadata": {},
   "source": [
    "Plotting the same with plotly.express produces a nicer chart of the department structure but it doesn't display in GitHub."
   ]
  },
  {
   "cell_type": "code",
   "execution_count": 349,
   "metadata": {},
   "outputs": [
    {
     "data": {
      "application/vnd.plotly.v1+json": {
       "config": {
        "plotlyServerURL": "https://plot.ly"
       },
       "data": [
        {
         "branchvalues": "total",
         "customdata": [
          [
           "Executive General and Administration"
          ],
          [
           "Research and Development"
          ],
          [
           "Research and Development"
          ],
          [
           "Quality Assurance"
          ],
          [
           "Executive General and Administration"
          ],
          [
           "Manufacturing"
          ],
          [
           "Inventory Management"
          ],
          [
           "Research and Development"
          ],
          [
           "Executive General and Administration"
          ],
          [
           "Quality Assurance"
          ],
          [
           "Executive General and Administration"
          ],
          [
           "Sales and Marketing"
          ],
          [
           "Executive General and Administration"
          ],
          [
           "Inventory Management"
          ],
          [
           "Sales and Marketing"
          ],
          [
           "Manufacturing"
          ],
          [
           "Quality Assurance"
          ],
          [
           "Research and Development"
          ],
          [
           "Executive General and Administration"
          ],
          [
           "Executive General and Administration"
          ],
          [
           "Executive General and Administration"
          ],
          [
           "Executive General and Administration"
          ],
          [
           "Executive General and Administration"
          ],
          [
           "Sales and Marketing"
          ],
          [
           "Manufacturing"
          ],
          [
           "Manufacturing"
          ],
          [
           "Inventory Management"
          ],
          [
           "Quality Assurance"
          ],
          [
           "Research and Development"
          ],
          [
           "Sales and Marketing"
          ],
          [
           "Inventory Management"
          ],
          [
           "Research and Development"
          ],
          [
           "Executive General and Administration"
          ],
          [
           "Inventory Management"
          ],
          [
           "Manufacturing"
          ],
          [
           "Quality Assurance"
          ],
          [
           "Research and Development"
          ],
          [
           "Sales and Marketing"
          ]
         ],
         "domain": {
          "x": [
           0,
           1
          ],
          "y": [
           0,
           1
          ]
         },
         "hovertemplate": "labels=%{label}<br>count=%{value}<br>parent=%{parent}<br>id=%{id}<br>Group=%{customdata[0]}<extra></extra>",
         "ids": [
          "Executive General and Administration/Executive/2",
          "Research and Development/Research and Development/4",
          "Research and Development/Tool Design/4",
          "Quality Assurance/Document Control/5",
          "Executive General and Administration/Human Resources/6",
          "Manufacturing/Production Control/6",
          "Inventory Management/Shipping and Receiving/6",
          "Research and Development/Engineering/7",
          "Executive General and Administration/Facilities and Maintenance/7",
          "Quality Assurance/Quality Assurance/7",
          "Executive General and Administration/Information Services/10",
          "Sales and Marketing/Marketing/10",
          "Executive General and Administration/Finance/11",
          "Inventory Management/Purchasing/13",
          "Sales and Marketing/Sales/18",
          "Manufacturing/Production/180",
          "Quality Assurance/Document Control",
          "Research and Development/Engineering",
          "Executive General and Administration/Executive",
          "Executive General and Administration/Facilities and Maintenance",
          "Executive General and Administration/Finance",
          "Executive General and Administration/Human Resources",
          "Executive General and Administration/Information Services",
          "Sales and Marketing/Marketing",
          "Manufacturing/Production",
          "Manufacturing/Production Control",
          "Inventory Management/Purchasing",
          "Quality Assurance/Quality Assurance",
          "Research and Development/Research and Development",
          "Sales and Marketing/Sales",
          "Inventory Management/Shipping and Receiving",
          "Research and Development/Tool Design",
          "Executive General and Administration",
          "Inventory Management",
          "Manufacturing",
          "Quality Assurance",
          "Research and Development",
          "Sales and Marketing"
         ],
         "labels": [
          "2",
          "4",
          "4",
          "5",
          "6",
          "6",
          "6",
          "7",
          "7",
          "7",
          "10",
          "10",
          "11",
          "13",
          "18",
          "180",
          "Document Control",
          "Engineering",
          "Executive",
          "Facilities and Maintenance",
          "Finance",
          "Human Resources",
          "Information Services",
          "Marketing",
          "Production",
          "Production Control",
          "Purchasing",
          "Quality Assurance",
          "Research and Development",
          "Sales",
          "Shipping and Receiving",
          "Tool Design",
          "Executive General and Administration",
          "Inventory Management",
          "Manufacturing",
          "Quality Assurance",
          "Research and Development",
          "Sales and Marketing"
         ],
         "marker": {
          "colors": [
           "#4C78A8",
           "#F58518",
           "#F58518",
           "#E45756",
           "#4C78A8",
           "#72B7B2",
           "#54A24B",
           "#F58518",
           "#4C78A8",
           "#E45756",
           "#4C78A8",
           "#EECA3B",
           "#4C78A8",
           "#54A24B",
           "#EECA3B",
           "#72B7B2",
           "#E45756",
           "#F58518",
           "#4C78A8",
           "#4C78A8",
           "#4C78A8",
           "#4C78A8",
           "#4C78A8",
           "#EECA3B",
           "#72B7B2",
           "#72B7B2",
           "#54A24B",
           "#E45756",
           "#F58518",
           "#EECA3B",
           "#54A24B",
           "#F58518",
           "#4C78A8",
           "#54A24B",
           "#72B7B2",
           "#E45756",
           "#F58518",
           "#EECA3B"
          ],
          "cornerradius": 5
         },
         "name": "",
         "parents": [
          "Executive General and Administration/Executive",
          "Research and Development/Research and Development",
          "Research and Development/Tool Design",
          "Quality Assurance/Document Control",
          "Executive General and Administration/Human Resources",
          "Manufacturing/Production Control",
          "Inventory Management/Shipping and Receiving",
          "Research and Development/Engineering",
          "Executive General and Administration/Facilities and Maintenance",
          "Quality Assurance/Quality Assurance",
          "Executive General and Administration/Information Services",
          "Sales and Marketing/Marketing",
          "Executive General and Administration/Finance",
          "Inventory Management/Purchasing",
          "Sales and Marketing/Sales",
          "Manufacturing/Production",
          "Quality Assurance",
          "Research and Development",
          "Executive General and Administration",
          "Executive General and Administration",
          "Executive General and Administration",
          "Executive General and Administration",
          "Executive General and Administration",
          "Sales and Marketing",
          "Manufacturing",
          "Manufacturing",
          "Inventory Management",
          "Quality Assurance",
          "Research and Development",
          "Sales and Marketing",
          "Inventory Management",
          "Research and Development",
          "",
          "",
          "",
          "",
          "",
          ""
         ],
         "type": "treemap",
         "values": [
          1,
          1,
          1,
          1,
          1,
          1,
          1,
          1,
          1,
          1,
          1,
          1,
          1,
          1,
          1,
          1,
          1,
          1,
          1,
          1,
          1,
          1,
          1,
          1,
          1,
          1,
          1,
          1,
          1,
          1,
          1,
          1,
          5,
          2,
          2,
          2,
          3,
          2
         ]
        }
       ],
       "layout": {
        "coloraxis": {
         "showscale": false
        },
        "legend": {
         "tracegroupgap": 0
        },
        "margin": {
         "t": 60
        },
        "template": {
         "data": {
          "bar": [
           {
            "error_x": {
             "color": "#2a3f5f"
            },
            "error_y": {
             "color": "#2a3f5f"
            },
            "marker": {
             "line": {
              "color": "#E5ECF6",
              "width": 0.5
             },
             "pattern": {
              "fillmode": "overlay",
              "size": 10,
              "solidity": 0.2
             }
            },
            "type": "bar"
           }
          ],
          "barpolar": [
           {
            "marker": {
             "line": {
              "color": "#E5ECF6",
              "width": 0.5
             },
             "pattern": {
              "fillmode": "overlay",
              "size": 10,
              "solidity": 0.2
             }
            },
            "type": "barpolar"
           }
          ],
          "carpet": [
           {
            "aaxis": {
             "endlinecolor": "#2a3f5f",
             "gridcolor": "white",
             "linecolor": "white",
             "minorgridcolor": "white",
             "startlinecolor": "#2a3f5f"
            },
            "baxis": {
             "endlinecolor": "#2a3f5f",
             "gridcolor": "white",
             "linecolor": "white",
             "minorgridcolor": "white",
             "startlinecolor": "#2a3f5f"
            },
            "type": "carpet"
           }
          ],
          "choropleth": [
           {
            "colorbar": {
             "outlinewidth": 0,
             "ticks": ""
            },
            "type": "choropleth"
           }
          ],
          "contour": [
           {
            "colorbar": {
             "outlinewidth": 0,
             "ticks": ""
            },
            "colorscale": [
             [
              0,
              "#0d0887"
             ],
             [
              0.1111111111111111,
              "#46039f"
             ],
             [
              0.2222222222222222,
              "#7201a8"
             ],
             [
              0.3333333333333333,
              "#9c179e"
             ],
             [
              0.4444444444444444,
              "#bd3786"
             ],
             [
              0.5555555555555556,
              "#d8576b"
             ],
             [
              0.6666666666666666,
              "#ed7953"
             ],
             [
              0.7777777777777778,
              "#fb9f3a"
             ],
             [
              0.8888888888888888,
              "#fdca26"
             ],
             [
              1,
              "#f0f921"
             ]
            ],
            "type": "contour"
           }
          ],
          "contourcarpet": [
           {
            "colorbar": {
             "outlinewidth": 0,
             "ticks": ""
            },
            "type": "contourcarpet"
           }
          ],
          "heatmap": [
           {
            "colorbar": {
             "outlinewidth": 0,
             "ticks": ""
            },
            "colorscale": [
             [
              0,
              "#0d0887"
             ],
             [
              0.1111111111111111,
              "#46039f"
             ],
             [
              0.2222222222222222,
              "#7201a8"
             ],
             [
              0.3333333333333333,
              "#9c179e"
             ],
             [
              0.4444444444444444,
              "#bd3786"
             ],
             [
              0.5555555555555556,
              "#d8576b"
             ],
             [
              0.6666666666666666,
              "#ed7953"
             ],
             [
              0.7777777777777778,
              "#fb9f3a"
             ],
             [
              0.8888888888888888,
              "#fdca26"
             ],
             [
              1,
              "#f0f921"
             ]
            ],
            "type": "heatmap"
           }
          ],
          "heatmapgl": [
           {
            "colorbar": {
             "outlinewidth": 0,
             "ticks": ""
            },
            "colorscale": [
             [
              0,
              "#0d0887"
             ],
             [
              0.1111111111111111,
              "#46039f"
             ],
             [
              0.2222222222222222,
              "#7201a8"
             ],
             [
              0.3333333333333333,
              "#9c179e"
             ],
             [
              0.4444444444444444,
              "#bd3786"
             ],
             [
              0.5555555555555556,
              "#d8576b"
             ],
             [
              0.6666666666666666,
              "#ed7953"
             ],
             [
              0.7777777777777778,
              "#fb9f3a"
             ],
             [
              0.8888888888888888,
              "#fdca26"
             ],
             [
              1,
              "#f0f921"
             ]
            ],
            "type": "heatmapgl"
           }
          ],
          "histogram": [
           {
            "marker": {
             "pattern": {
              "fillmode": "overlay",
              "size": 10,
              "solidity": 0.2
             }
            },
            "type": "histogram"
           }
          ],
          "histogram2d": [
           {
            "colorbar": {
             "outlinewidth": 0,
             "ticks": ""
            },
            "colorscale": [
             [
              0,
              "#0d0887"
             ],
             [
              0.1111111111111111,
              "#46039f"
             ],
             [
              0.2222222222222222,
              "#7201a8"
             ],
             [
              0.3333333333333333,
              "#9c179e"
             ],
             [
              0.4444444444444444,
              "#bd3786"
             ],
             [
              0.5555555555555556,
              "#d8576b"
             ],
             [
              0.6666666666666666,
              "#ed7953"
             ],
             [
              0.7777777777777778,
              "#fb9f3a"
             ],
             [
              0.8888888888888888,
              "#fdca26"
             ],
             [
              1,
              "#f0f921"
             ]
            ],
            "type": "histogram2d"
           }
          ],
          "histogram2dcontour": [
           {
            "colorbar": {
             "outlinewidth": 0,
             "ticks": ""
            },
            "colorscale": [
             [
              0,
              "#0d0887"
             ],
             [
              0.1111111111111111,
              "#46039f"
             ],
             [
              0.2222222222222222,
              "#7201a8"
             ],
             [
              0.3333333333333333,
              "#9c179e"
             ],
             [
              0.4444444444444444,
              "#bd3786"
             ],
             [
              0.5555555555555556,
              "#d8576b"
             ],
             [
              0.6666666666666666,
              "#ed7953"
             ],
             [
              0.7777777777777778,
              "#fb9f3a"
             ],
             [
              0.8888888888888888,
              "#fdca26"
             ],
             [
              1,
              "#f0f921"
             ]
            ],
            "type": "histogram2dcontour"
           }
          ],
          "mesh3d": [
           {
            "colorbar": {
             "outlinewidth": 0,
             "ticks": ""
            },
            "type": "mesh3d"
           }
          ],
          "parcoords": [
           {
            "line": {
             "colorbar": {
              "outlinewidth": 0,
              "ticks": ""
             }
            },
            "type": "parcoords"
           }
          ],
          "pie": [
           {
            "automargin": true,
            "type": "pie"
           }
          ],
          "scatter": [
           {
            "fillpattern": {
             "fillmode": "overlay",
             "size": 10,
             "solidity": 0.2
            },
            "type": "scatter"
           }
          ],
          "scatter3d": [
           {
            "line": {
             "colorbar": {
              "outlinewidth": 0,
              "ticks": ""
             }
            },
            "marker": {
             "colorbar": {
              "outlinewidth": 0,
              "ticks": ""
             }
            },
            "type": "scatter3d"
           }
          ],
          "scattercarpet": [
           {
            "marker": {
             "colorbar": {
              "outlinewidth": 0,
              "ticks": ""
             }
            },
            "type": "scattercarpet"
           }
          ],
          "scattergeo": [
           {
            "marker": {
             "colorbar": {
              "outlinewidth": 0,
              "ticks": ""
             }
            },
            "type": "scattergeo"
           }
          ],
          "scattergl": [
           {
            "marker": {
             "colorbar": {
              "outlinewidth": 0,
              "ticks": ""
             }
            },
            "type": "scattergl"
           }
          ],
          "scattermapbox": [
           {
            "marker": {
             "colorbar": {
              "outlinewidth": 0,
              "ticks": ""
             }
            },
            "type": "scattermapbox"
           }
          ],
          "scatterpolar": [
           {
            "marker": {
             "colorbar": {
              "outlinewidth": 0,
              "ticks": ""
             }
            },
            "type": "scatterpolar"
           }
          ],
          "scatterpolargl": [
           {
            "marker": {
             "colorbar": {
              "outlinewidth": 0,
              "ticks": ""
             }
            },
            "type": "scatterpolargl"
           }
          ],
          "scatterternary": [
           {
            "marker": {
             "colorbar": {
              "outlinewidth": 0,
              "ticks": ""
             }
            },
            "type": "scatterternary"
           }
          ],
          "surface": [
           {
            "colorbar": {
             "outlinewidth": 0,
             "ticks": ""
            },
            "colorscale": [
             [
              0,
              "#0d0887"
             ],
             [
              0.1111111111111111,
              "#46039f"
             ],
             [
              0.2222222222222222,
              "#7201a8"
             ],
             [
              0.3333333333333333,
              "#9c179e"
             ],
             [
              0.4444444444444444,
              "#bd3786"
             ],
             [
              0.5555555555555556,
              "#d8576b"
             ],
             [
              0.6666666666666666,
              "#ed7953"
             ],
             [
              0.7777777777777778,
              "#fb9f3a"
             ],
             [
              0.8888888888888888,
              "#fdca26"
             ],
             [
              1,
              "#f0f921"
             ]
            ],
            "type": "surface"
           }
          ],
          "table": [
           {
            "cells": {
             "fill": {
              "color": "#EBF0F8"
             },
             "line": {
              "color": "white"
             }
            },
            "header": {
             "fill": {
              "color": "#C8D4E3"
             },
             "line": {
              "color": "white"
             }
            },
            "type": "table"
           }
          ]
         },
         "layout": {
          "annotationdefaults": {
           "arrowcolor": "#2a3f5f",
           "arrowhead": 0,
           "arrowwidth": 1
          },
          "autotypenumbers": "strict",
          "coloraxis": {
           "colorbar": {
            "outlinewidth": 0,
            "ticks": ""
           }
          },
          "colorscale": {
           "diverging": [
            [
             0,
             "#8e0152"
            ],
            [
             0.1,
             "#c51b7d"
            ],
            [
             0.2,
             "#de77ae"
            ],
            [
             0.3,
             "#f1b6da"
            ],
            [
             0.4,
             "#fde0ef"
            ],
            [
             0.5,
             "#f7f7f7"
            ],
            [
             0.6,
             "#e6f5d0"
            ],
            [
             0.7,
             "#b8e186"
            ],
            [
             0.8,
             "#7fbc41"
            ],
            [
             0.9,
             "#4d9221"
            ],
            [
             1,
             "#276419"
            ]
           ],
           "sequential": [
            [
             0,
             "#0d0887"
            ],
            [
             0.1111111111111111,
             "#46039f"
            ],
            [
             0.2222222222222222,
             "#7201a8"
            ],
            [
             0.3333333333333333,
             "#9c179e"
            ],
            [
             0.4444444444444444,
             "#bd3786"
            ],
            [
             0.5555555555555556,
             "#d8576b"
            ],
            [
             0.6666666666666666,
             "#ed7953"
            ],
            [
             0.7777777777777778,
             "#fb9f3a"
            ],
            [
             0.8888888888888888,
             "#fdca26"
            ],
            [
             1,
             "#f0f921"
            ]
           ],
           "sequentialminus": [
            [
             0,
             "#0d0887"
            ],
            [
             0.1111111111111111,
             "#46039f"
            ],
            [
             0.2222222222222222,
             "#7201a8"
            ],
            [
             0.3333333333333333,
             "#9c179e"
            ],
            [
             0.4444444444444444,
             "#bd3786"
            ],
            [
             0.5555555555555556,
             "#d8576b"
            ],
            [
             0.6666666666666666,
             "#ed7953"
            ],
            [
             0.7777777777777778,
             "#fb9f3a"
            ],
            [
             0.8888888888888888,
             "#fdca26"
            ],
            [
             1,
             "#f0f921"
            ]
           ]
          },
          "colorway": [
           "#636efa",
           "#EF553B",
           "#00cc96",
           "#ab63fa",
           "#FFA15A",
           "#19d3f3",
           "#FF6692",
           "#B6E880",
           "#FF97FF",
           "#FECB52"
          ],
          "font": {
           "color": "#2a3f5f"
          },
          "geo": {
           "bgcolor": "white",
           "lakecolor": "white",
           "landcolor": "#E5ECF6",
           "showlakes": true,
           "showland": true,
           "subunitcolor": "white"
          },
          "hoverlabel": {
           "align": "left"
          },
          "hovermode": "closest",
          "mapbox": {
           "style": "light"
          },
          "paper_bgcolor": "white",
          "plot_bgcolor": "#E5ECF6",
          "polar": {
           "angularaxis": {
            "gridcolor": "white",
            "linecolor": "white",
            "ticks": ""
           },
           "bgcolor": "#E5ECF6",
           "radialaxis": {
            "gridcolor": "white",
            "linecolor": "white",
            "ticks": ""
           }
          },
          "scene": {
           "xaxis": {
            "backgroundcolor": "#E5ECF6",
            "gridcolor": "white",
            "gridwidth": 2,
            "linecolor": "white",
            "showbackground": true,
            "ticks": "",
            "zerolinecolor": "white"
           },
           "yaxis": {
            "backgroundcolor": "#E5ECF6",
            "gridcolor": "white",
            "gridwidth": 2,
            "linecolor": "white",
            "showbackground": true,
            "ticks": "",
            "zerolinecolor": "white"
           },
           "zaxis": {
            "backgroundcolor": "#E5ECF6",
            "gridcolor": "white",
            "gridwidth": 2,
            "linecolor": "white",
            "showbackground": true,
            "ticks": "",
            "zerolinecolor": "white"
           }
          },
          "shapedefaults": {
           "line": {
            "color": "#2a3f5f"
           }
          },
          "ternary": {
           "aaxis": {
            "gridcolor": "white",
            "linecolor": "white",
            "ticks": ""
           },
           "baxis": {
            "gridcolor": "white",
            "linecolor": "white",
            "ticks": ""
           },
           "bgcolor": "#E5ECF6",
           "caxis": {
            "gridcolor": "white",
            "linecolor": "white",
            "ticks": ""
           }
          },
          "title": {
           "x": 0.05
          },
          "xaxis": {
           "automargin": true,
           "gridcolor": "white",
           "linecolor": "white",
           "ticks": "",
           "title": {
            "standoff": 15
           },
           "zerolinecolor": "white",
           "zerolinewidth": 2
          },
          "yaxis": {
           "automargin": true,
           "gridcolor": "white",
           "linecolor": "white",
           "ticks": "",
           "title": {
            "standoff": 15
           },
           "zerolinecolor": "white",
           "zerolinewidth": 2
          }
         }
        },
        "treemapcolorway": [
         "#4C78A8",
         "#F58518",
         "#E45756",
         "#72B7B2",
         "#54A24B",
         "#EECA3B",
         "#B279A2",
         "#FF9DA6",
         "#9D755D",
         "#BAB0AC"
        ]
       }
      }
     },
     "metadata": {},
     "output_type": "display_data"
    }
   ],
   "source": [
    "fig = px.treemap(employees_by_department, path=['Group', 'Department', 'Employee count'], \n",
    "                 color='Group', color_discrete_sequence=px.colors.qualitative.T10)\n",
    "fig.update_layout(coloraxis_showscale=False)\n",
    "fig.update_traces(marker=dict(cornerradius=5))\n",
    "fig.show()"
   ]
  },
  {
   "cell_type": "markdown",
   "metadata": {},
   "source": [
    "Employees with pay rate increases:"
   ]
  },
  {
   "cell_type": "code",
   "execution_count": 4,
   "metadata": {},
   "outputs": [
    {
     "data": {
      "text/html": [
       "<div>\n",
       "<style scoped>\n",
       "    .dataframe tbody tr th:only-of-type {\n",
       "        vertical-align: middle;\n",
       "    }\n",
       "\n",
       "    .dataframe tbody tr th {\n",
       "        vertical-align: top;\n",
       "    }\n",
       "\n",
       "    .dataframe thead th {\n",
       "        text-align: right;\n",
       "    }\n",
       "</style>\n",
       "<table border=\"1\" class=\"dataframe\">\n",
       "  <thead>\n",
       "    <tr style=\"text-align: right;\">\n",
       "      <th></th>\n",
       "      <th>BusinessEntityID</th>\n",
       "      <th>JobTitle</th>\n",
       "      <th>Starting rate</th>\n",
       "      <th>Current rate</th>\n",
       "      <th>Number of pay increases</th>\n",
       "      <th>HireDate</th>\n",
       "      <th>Last pay increase</th>\n",
       "    </tr>\n",
       "  </thead>\n",
       "  <tbody>\n",
       "    <tr>\n",
       "      <th>0</th>\n",
       "      <td>234</td>\n",
       "      <td>Chief Financial Officer</td>\n",
       "      <td>39.06</td>\n",
       "      <td>60.0962</td>\n",
       "      <td>2</td>\n",
       "      <td>2009-01-31</td>\n",
       "      <td>2012-01-29</td>\n",
       "    </tr>\n",
       "    <tr>\n",
       "      <th>1</th>\n",
       "      <td>16</td>\n",
       "      <td>Marketing Manager</td>\n",
       "      <td>24.00</td>\n",
       "      <td>37.5000</td>\n",
       "      <td>2</td>\n",
       "      <td>2007-12-20</td>\n",
       "      <td>2012-04-30</td>\n",
       "    </tr>\n",
       "    <tr>\n",
       "      <th>2</th>\n",
       "      <td>250</td>\n",
       "      <td>Purchasing Manager</td>\n",
       "      <td>9.86</td>\n",
       "      <td>30.0000</td>\n",
       "      <td>2</td>\n",
       "      <td>2011-02-25</td>\n",
       "      <td>2012-07-14</td>\n",
       "    </tr>\n",
       "    <tr>\n",
       "      <th>3</th>\n",
       "      <td>4</td>\n",
       "      <td>Senior Tool Designer</td>\n",
       "      <td>8.62</td>\n",
       "      <td>29.8462</td>\n",
       "      <td>2</td>\n",
       "      <td>2007-12-05</td>\n",
       "      <td>2011-12-15</td>\n",
       "    </tr>\n",
       "    <tr>\n",
       "      <th>4</th>\n",
       "      <td>224</td>\n",
       "      <td>Scheduling Assistant</td>\n",
       "      <td>8.62</td>\n",
       "      <td>16.0000</td>\n",
       "      <td>2</td>\n",
       "      <td>2009-01-07</td>\n",
       "      <td>2012-01-01</td>\n",
       "    </tr>\n",
       "    <tr>\n",
       "      <th>5</th>\n",
       "      <td>167</td>\n",
       "      <td>Production Technician - WC30</td>\n",
       "      <td>6.50</td>\n",
       "      <td>9.5000</td>\n",
       "      <td>2</td>\n",
       "      <td>2008-12-02</td>\n",
       "      <td>2013-07-14</td>\n",
       "    </tr>\n",
       "    <tr>\n",
       "      <th>6</th>\n",
       "      <td>170</td>\n",
       "      <td>Production Technician - WC30</td>\n",
       "      <td>6.50</td>\n",
       "      <td>9.5000</td>\n",
       "      <td>2</td>\n",
       "      <td>2008-12-21</td>\n",
       "      <td>2013-07-14</td>\n",
       "    </tr>\n",
       "    <tr>\n",
       "      <th>7</th>\n",
       "      <td>172</td>\n",
       "      <td>Production Technician - WC30</td>\n",
       "      <td>6.50</td>\n",
       "      <td>9.5000</td>\n",
       "      <td>2</td>\n",
       "      <td>2009-01-16</td>\n",
       "      <td>2013-07-14</td>\n",
       "    </tr>\n",
       "    <tr>\n",
       "      <th>8</th>\n",
       "      <td>174</td>\n",
       "      <td>Production Technician - WC30</td>\n",
       "      <td>6.75</td>\n",
       "      <td>9.5000</td>\n",
       "      <td>2</td>\n",
       "      <td>2009-01-27</td>\n",
       "      <td>2013-07-14</td>\n",
       "    </tr>\n",
       "    <tr>\n",
       "      <th>9</th>\n",
       "      <td>175</td>\n",
       "      <td>Production Technician - WC30</td>\n",
       "      <td>6.50</td>\n",
       "      <td>9.5000</td>\n",
       "      <td>2</td>\n",
       "      <td>2009-02-02</td>\n",
       "      <td>2013-07-14</td>\n",
       "    </tr>\n",
       "    <tr>\n",
       "      <th>10</th>\n",
       "      <td>176</td>\n",
       "      <td>Production Technician - WC30</td>\n",
       "      <td>6.50</td>\n",
       "      <td>9.5000</td>\n",
       "      <td>2</td>\n",
       "      <td>2009-02-14</td>\n",
       "      <td>2013-07-14</td>\n",
       "    </tr>\n",
       "    <tr>\n",
       "      <th>11</th>\n",
       "      <td>177</td>\n",
       "      <td>Production Technician - WC30</td>\n",
       "      <td>6.50</td>\n",
       "      <td>9.5000</td>\n",
       "      <td>2</td>\n",
       "      <td>2009-02-21</td>\n",
       "      <td>2013-07-14</td>\n",
       "    </tr>\n",
       "    <tr>\n",
       "      <th>12</th>\n",
       "      <td>178</td>\n",
       "      <td>Production Technician - WC30</td>\n",
       "      <td>6.50</td>\n",
       "      <td>9.5000</td>\n",
       "      <td>2</td>\n",
       "      <td>2009-03-03</td>\n",
       "      <td>2013-07-14</td>\n",
       "    </tr>\n",
       "  </tbody>\n",
       "</table>\n",
       "</div>"
      ],
      "text/plain": [
       "    BusinessEntityID                      JobTitle  Starting rate  \\\n",
       "0                234       Chief Financial Officer          39.06   \n",
       "1                 16             Marketing Manager          24.00   \n",
       "2                250            Purchasing Manager           9.86   \n",
       "3                  4          Senior Tool Designer           8.62   \n",
       "4                224          Scheduling Assistant           8.62   \n",
       "5                167  Production Technician - WC30           6.50   \n",
       "6                170  Production Technician - WC30           6.50   \n",
       "7                172  Production Technician - WC30           6.50   \n",
       "8                174  Production Technician - WC30           6.75   \n",
       "9                175  Production Technician - WC30           6.50   \n",
       "10               176  Production Technician - WC30           6.50   \n",
       "11               177  Production Technician - WC30           6.50   \n",
       "12               178  Production Technician - WC30           6.50   \n",
       "\n",
       "    Current rate  Number of pay increases    HireDate Last pay increase  \n",
       "0        60.0962                        2  2009-01-31        2012-01-29  \n",
       "1        37.5000                        2  2007-12-20        2012-04-30  \n",
       "2        30.0000                        2  2011-02-25        2012-07-14  \n",
       "3        29.8462                        2  2007-12-05        2011-12-15  \n",
       "4        16.0000                        2  2009-01-07        2012-01-01  \n",
       "5         9.5000                        2  2008-12-02        2013-07-14  \n",
       "6         9.5000                        2  2008-12-21        2013-07-14  \n",
       "7         9.5000                        2  2009-01-16        2013-07-14  \n",
       "8         9.5000                        2  2009-01-27        2013-07-14  \n",
       "9         9.5000                        2  2009-02-02        2013-07-14  \n",
       "10        9.5000                        2  2009-02-14        2013-07-14  \n",
       "11        9.5000                        2  2009-02-21        2013-07-14  \n",
       "12        9.5000                        2  2009-03-03        2013-07-14  "
      ]
     },
     "execution_count": 4,
     "metadata": {},
     "output_type": "execute_result"
    }
   ],
   "source": [
    "pay_increases = pd.read_sql(sql=\"\"\"\n",
    "SELECT\n",
    "\te.BusinessEntityID,\n",
    "\te.JobTitle,\n",
    "\tMIN(h.Rate) AS \"Starting rate\",\n",
    "\tMAX(h.Rate) AS \"Current rate\",\n",
    "\tCOUNT(h.RateChangeDate) -1 AS \"Number of pay increases\",\n",
    " \te.HireDate,\n",
    "\tMAX(h.RateChangeDate) AS \"Last pay increase\"\n",
    "\n",
    "FROM HumanResources.Employee AS e LEFT JOIN HumanResources.EmployeePayHistory AS h\n",
    "\tON e.BusinessEntityID = h.BusinessEntityID\n",
    "\n",
    "\n",
    "GROUP BY e.BusinessEntityID, e.JobTitle, e.Gender, e.HireDate\n",
    "HAVING COUNT(h.RateChangeDate) > 1\n",
    "ORDER BY \"Current Rate\" DESC\n",
    ";\n",
    "        \n",
    "\"\"\" , con=connection)\n",
    "\n",
    "pay_increases"
   ]
  },
  {
   "cell_type": "markdown",
   "metadata": {},
   "source": [
    "Average pay rate by department:"
   ]
  },
  {
   "cell_type": "code",
   "execution_count": 5,
   "metadata": {},
   "outputs": [
    {
     "data": {
      "text/html": [
       "<div>\n",
       "<style scoped>\n",
       "    .dataframe tbody tr th:only-of-type {\n",
       "        vertical-align: middle;\n",
       "    }\n",
       "\n",
       "    .dataframe tbody tr th {\n",
       "        vertical-align: top;\n",
       "    }\n",
       "\n",
       "    .dataframe thead th {\n",
       "        text-align: right;\n",
       "    }\n",
       "</style>\n",
       "<table border=\"1\" class=\"dataframe\">\n",
       "  <thead>\n",
       "    <tr style=\"text-align: right;\">\n",
       "      <th></th>\n",
       "      <th>Department</th>\n",
       "      <th>Average rate</th>\n",
       "    </tr>\n",
       "  </thead>\n",
       "  <tbody>\n",
       "    <tr>\n",
       "      <th>0</th>\n",
       "      <td>Executive</td>\n",
       "      <td>68.3034</td>\n",
       "    </tr>\n",
       "    <tr>\n",
       "      <th>1</th>\n",
       "      <td>Research and Development</td>\n",
       "      <td>43.6731</td>\n",
       "    </tr>\n",
       "    <tr>\n",
       "      <th>2</th>\n",
       "      <td>Information Services</td>\n",
       "      <td>34.1586</td>\n",
       "    </tr>\n",
       "    <tr>\n",
       "      <th>3</th>\n",
       "      <td>Engineering</td>\n",
       "      <td>33.6723</td>\n",
       "    </tr>\n",
       "    <tr>\n",
       "      <th>4</th>\n",
       "      <td>Sales</td>\n",
       "      <td>29.9719</td>\n",
       "    </tr>\n",
       "    <tr>\n",
       "      <th>5</th>\n",
       "      <td>Finance</td>\n",
       "      <td>29.7742</td>\n",
       "    </tr>\n",
       "    <tr>\n",
       "      <th>6</th>\n",
       "      <td>Tool Design</td>\n",
       "      <td>23.5054</td>\n",
       "    </tr>\n",
       "    <tr>\n",
       "      <th>7</th>\n",
       "      <td>Purchasing</td>\n",
       "      <td>20.1489</td>\n",
       "    </tr>\n",
       "    <tr>\n",
       "      <th>8</th>\n",
       "      <td>Marketing</td>\n",
       "      <td>18.9364</td>\n",
       "    </tr>\n",
       "    <tr>\n",
       "      <th>9</th>\n",
       "      <td>Human Resources</td>\n",
       "      <td>18.0248</td>\n",
       "    </tr>\n",
       "    <tr>\n",
       "      <th>10</th>\n",
       "      <td>Quality Assurance</td>\n",
       "      <td>17.2387</td>\n",
       "    </tr>\n",
       "    <tr>\n",
       "      <th>11</th>\n",
       "      <td>Production Control</td>\n",
       "      <td>16.7746</td>\n",
       "    </tr>\n",
       "    <tr>\n",
       "      <th>12</th>\n",
       "      <td>Document Control</td>\n",
       "      <td>14.3884</td>\n",
       "    </tr>\n",
       "    <tr>\n",
       "      <th>13</th>\n",
       "      <td>Production</td>\n",
       "      <td>13.5409</td>\n",
       "    </tr>\n",
       "    <tr>\n",
       "      <th>14</th>\n",
       "      <td>Facilities and Maintenance</td>\n",
       "      <td>13.0316</td>\n",
       "    </tr>\n",
       "    <tr>\n",
       "      <th>15</th>\n",
       "      <td>Shipping and Receiving</td>\n",
       "      <td>10.8718</td>\n",
       "    </tr>\n",
       "  </tbody>\n",
       "</table>\n",
       "</div>"
      ],
      "text/plain": [
       "                    Department  Average rate\n",
       "0                    Executive       68.3034\n",
       "1     Research and Development       43.6731\n",
       "2         Information Services       34.1586\n",
       "3                  Engineering       33.6723\n",
       "4                        Sales       29.9719\n",
       "5                      Finance       29.7742\n",
       "6                  Tool Design       23.5054\n",
       "7                   Purchasing       20.1489\n",
       "8                    Marketing       18.9364\n",
       "9              Human Resources       18.0248\n",
       "10           Quality Assurance       17.2387\n",
       "11          Production Control       16.7746\n",
       "12            Document Control       14.3884\n",
       "13                  Production       13.5409\n",
       "14  Facilities and Maintenance       13.0316\n",
       "15      Shipping and Receiving       10.8718"
      ]
     },
     "execution_count": 5,
     "metadata": {},
     "output_type": "execute_result"
    }
   ],
   "source": [
    "pay_rates = pd.read_sql(sql=\"\"\"\n",
    "SELECT\n",
    "\td.Name AS \"Department\",\n",
    "\tAVG(ph.Rate) AS \"Average rate\"\n",
    "\t\n",
    "FROM HumanResources.EmployeePayHistory AS ph\n",
    "\tLEFT JOIN HumanResources.EmployeeDepartmentHistory AS dh\n",
    "\tON ph.BusinessEntityID = dh.BusinessEntityID\n",
    "\tLEFT JOIN HumanResources.Department AS d\n",
    "\tON dh.DepartmentID = d.DepartmentID\n",
    "\n",
    "GROUP BY d.Name\n",
    "ORDER BY AVG(ph.Rate) DESC\n",
    ";\n",
    "        \n",
    "\"\"\" , con=connection)\n",
    "\n",
    "pay_rates"
   ]
  },
  {
   "cell_type": "code",
   "execution_count": 6,
   "metadata": {},
   "outputs": [
    {
     "data": {
      "text/plain": [
       "<seaborn.axisgrid.FacetGrid at 0x212226cedb0>"
      ]
     },
     "execution_count": 6,
     "metadata": {},
     "output_type": "execute_result"
    },
    {
     "data": {
      "image/png": "[encoded data removed]",
      "text/plain": [
       "<Figure size 512.222x500 with 1 Axes>"
      ]
     },
     "metadata": {},
     "output_type": "display_data"
    }
   ],
   "source": [
    "sns.set_context(\"notebook\")\n",
    "sns.set_style(\"whitegrid\")\n",
    "sns.catplot(data=pay_rates, x=\"Average rate\", y=\"Department\", kind=\"bar\")"
   ]
  },
  {
   "cell_type": "markdown",
   "metadata": {},
   "source": [
    "## <a class=\"anchor\" id=\"part2\">Employees</a>\n",
    "[back to top](#0)"
   ]
  },
  {
   "cell_type": "markdown",
   "metadata": {},
   "source": [
    "Where do employees live?"
   ]
  },
  {
   "cell_type": "code",
   "execution_count": 7,
   "metadata": {},
   "outputs": [],
   "source": [
    "employee_city = pd.read_sql(sql=\"\"\"\n",
    "SELECT \n",
    "\tc.City,\n",
    "\tCOUNT(*) AS \"Employees by city\",\n",
    "\td.StateProvinceCode AS \"State\"\n",
    "\t\n",
    "FROM Person.Person AS a LEFT JOIN Person.BusinessEntityAddress AS b\n",
    "\tON a.BusinessEntityID = b.BusinessEntityID LEFT JOIN Person.Address AS c\n",
    "\tON b.AddressID = c.AddressID LEFT JOIN Person.StateProvince AS d\n",
    "\tON c.StateProvinceID = d.StateProvinceID\n",
    "WHERE a.PersonType = 'EM'\n",
    "\n",
    "GROUP BY c.City, d.StateProvinceCode\n",
    "ORDER BY \"Employees by city\" DESC\n",
    ";\n",
    "\"\"\" \n",
    ", con=connection)"
   ]
  },
  {
   "cell_type": "markdown",
   "metadata": {},
   "source": [
    "Chart of employees by city:"
   ]
  },
  {
   "cell_type": "code",
   "execution_count": 8,
   "metadata": {},
   "outputs": [
    {
     "data": {
      "text/plain": [
       "<seaborn.axisgrid.FacetGrid at 0x21223aab0e0>"
      ]
     },
     "execution_count": 8,
     "metadata": {},
     "output_type": "execute_result"
    },
    {
     "data": {
      "image/png": "[encoded data removed]",
      "text/plain": [
       "<Figure size 582.875x500 with 1 Axes>"
      ]
     },
     "metadata": {},
     "output_type": "display_data"
    }
   ],
   "source": [
    "sns.catplot(data=employee_city, x=\"Employees by city\", y=\"City\", kind=\"bar\", hue=\"State\")"
   ]
  },
  {
   "cell_type": "code",
   "execution_count": 9,
   "metadata": {},
   "outputs": [
    {
     "data": {
      "text/html": [
       "<div>\n",
       "<style scoped>\n",
       "    .dataframe tbody tr th:only-of-type {\n",
       "        vertical-align: middle;\n",
       "    }\n",
       "\n",
       "    .dataframe tbody tr th {\n",
       "        vertical-align: top;\n",
       "    }\n",
       "\n",
       "    .dataframe thead th {\n",
       "        text-align: right;\n",
       "    }\n",
       "</style>\n",
       "<table border=\"1\" class=\"dataframe\">\n",
       "  <thead>\n",
       "    <tr style=\"text-align: right;\">\n",
       "      <th></th>\n",
       "      <th>State</th>\n",
       "      <th>Employees by state</th>\n",
       "    </tr>\n",
       "  </thead>\n",
       "  <tbody>\n",
       "    <tr>\n",
       "      <th>0</th>\n",
       "      <td>WA</td>\n",
       "      <td>271</td>\n",
       "    </tr>\n",
       "    <tr>\n",
       "      <th>1</th>\n",
       "      <td>CA</td>\n",
       "      <td>1</td>\n",
       "    </tr>\n",
       "    <tr>\n",
       "      <th>2</th>\n",
       "      <td>MN</td>\n",
       "      <td>1</td>\n",
       "    </tr>\n",
       "  </tbody>\n",
       "</table>\n",
       "</div>"
      ],
      "text/plain": [
       "  State  Employees by state\n",
       "0   WA                  271\n",
       "1   CA                    1\n",
       "2   MN                    1"
      ]
     },
     "execution_count": 9,
     "metadata": {},
     "output_type": "execute_result"
    }
   ],
   "source": [
    "employee_state = pd.read_sql(sql=\"\"\"\n",
    "SELECT \n",
    "\td.StateProvinceCode AS \"State\",\n",
    "\tCOUNT(*) AS \"Employees by state\"\n",
    "\t\t\n",
    "FROM Person.Person AS a LEFT JOIN Person.BusinessEntityAddress AS b\n",
    "\tON a.BusinessEntityID = b.BusinessEntityID LEFT JOIN Person.Address AS c\n",
    "\tON b.AddressID = c.AddressID LEFT JOIN Person.StateProvince AS d\n",
    "\tON c.StateProvinceID = d.StateProvinceID\n",
    "WHERE a.PersonType = 'EM'\n",
    "\n",
    "GROUP BY d.StateProvinceCode\n",
    "ORDER BY \"Employees by state\" DESC\n",
    ";\n",
    "\"\"\" , con=connection)\n",
    "\n",
    "employee_state"
   ]
  },
  {
   "cell_type": "markdown",
   "metadata": {},
   "source": [
    "Extract geographic coordinates of cities for mapping in three easy steps:\n",
    "1. list all employees, their city, state, Spatial Location\n",
    "2. where multiple employees in one city, select one record for each city (it does not actually matter which)\n",
    "3. extract latitude and longitude from selected Spatial Location for each city\n",
    "\n",
    "The steps would be easy if ODBC supported geography data type, however, it doesn't. It does not appear to be possible to import Spatial Location into a Pandas data frame.\n",
    "The following code takes care of the first two steps:\n"
   ]
  },
  {
   "cell_type": "markdown",
   "metadata": {},
   "source": [
    "If, however, ODBC supported the Spatial Location data type, the SQL code to return latitude and longitude would be:"
   ]
  },
  {
   "cell_type": "raw",
   "metadata": {
    "vscode": {
     "languageId": "raw"
    }
   },
   "source": [
    "WITH\n",
    "    employee_record\n",
    "    AS\n",
    "    (\n",
    "        SELECT\n",
    "            a.BusinessEntityID,\n",
    "            c.City AS City,\n",
    "            d.Name AS State,\n",
    "            c.SpatialLocation,\n",
    "            ROW_NUMBER() OVER(PARTITION BY City ORDER BY a.BusinessEntityID) AS row_number\n",
    "\n",
    "        FROM Person.Person AS a LEFT JOIN Person.BusinessEntityAddress AS b\n",
    "            ON a.BusinessEntityID = b.BusinessEntityID LEFT JOIN Person.Address AS c\n",
    "            ON b.AddressID = c.AddressID LEFT JOIN Person.StateProvince AS d\n",
    "            ON c.StateProvinceID = d.StateProvinceID\n",
    "        WHERE a.PersonType = 'EM'\n",
    "    )\n",
    "\n",
    "SELECT\n",
    "    City,\n",
    "    State,\n",
    "    SpatialLocation.Lat AS Latitude,\n",
    "    SpatialLocation.Long AS Longitude\n",
    "FROM employee_record\n",
    "\n",
    "WHERE row_number = '1'\n",
    ";"
   ]
  },
  {
   "cell_type": "markdown",
   "metadata": {},
   "source": [
    "As a workaround, I have saved the SQL query results as a csv file and will import it as a data frame and save as a new SQL table."
   ]
  },
  {
   "cell_type": "code",
   "execution_count": 10,
   "metadata": {},
   "outputs": [
    {
     "data": {
      "text/html": [
       "<div>\n",
       "<style scoped>\n",
       "    .dataframe tbody tr th:only-of-type {\n",
       "        vertical-align: middle;\n",
       "    }\n",
       "\n",
       "    .dataframe tbody tr th {\n",
       "        vertical-align: top;\n",
       "    }\n",
       "\n",
       "    .dataframe thead th {\n",
       "        text-align: right;\n",
       "    }\n",
       "</style>\n",
       "<table border=\"1\" class=\"dataframe\">\n",
       "  <thead>\n",
       "    <tr style=\"text-align: right;\">\n",
       "      <th></th>\n",
       "      <th>City</th>\n",
       "      <th>State</th>\n",
       "      <th>employees_by_city</th>\n",
       "      <th>Latitude</th>\n",
       "      <th>Longitude</th>\n",
       "    </tr>\n",
       "  </thead>\n",
       "  <tbody>\n",
       "    <tr>\n",
       "      <th>0</th>\n",
       "      <td>Seattle</td>\n",
       "      <td>WA</td>\n",
       "      <td>44</td>\n",
       "      <td>47.57</td>\n",
       "      <td>-122.23</td>\n",
       "    </tr>\n",
       "    <tr>\n",
       "      <th>1</th>\n",
       "      <td>Bellevue</td>\n",
       "      <td>WA</td>\n",
       "      <td>35</td>\n",
       "      <td>47.57</td>\n",
       "      <td>-122.33</td>\n",
       "    </tr>\n",
       "    <tr>\n",
       "      <th>2</th>\n",
       "      <td>Edmonds</td>\n",
       "      <td>WA</td>\n",
       "      <td>25</td>\n",
       "      <td>47.77</td>\n",
       "      <td>-122.44</td>\n",
       "    </tr>\n",
       "    <tr>\n",
       "      <th>3</th>\n",
       "      <td>Redmond</td>\n",
       "      <td>WA</td>\n",
       "      <td>20</td>\n",
       "      <td>47.64</td>\n",
       "      <td>-122.28</td>\n",
       "    </tr>\n",
       "    <tr>\n",
       "      <th>4</th>\n",
       "      <td>Everett</td>\n",
       "      <td>WA</td>\n",
       "      <td>18</td>\n",
       "      <td>47.93</td>\n",
       "      <td>-122.09</td>\n",
       "    </tr>\n",
       "    <tr>\n",
       "      <th>5</th>\n",
       "      <td>Sammamish</td>\n",
       "      <td>WA</td>\n",
       "      <td>17</td>\n",
       "      <td>47.68</td>\n",
       "      <td>-121.97</td>\n",
       "    </tr>\n",
       "    <tr>\n",
       "      <th>6</th>\n",
       "      <td>Renton</td>\n",
       "      <td>WA</td>\n",
       "      <td>16</td>\n",
       "      <td>47.52</td>\n",
       "      <td>-122.25</td>\n",
       "    </tr>\n",
       "    <tr>\n",
       "      <th>7</th>\n",
       "      <td>Issaquah</td>\n",
       "      <td>WA</td>\n",
       "      <td>15</td>\n",
       "      <td>47.55</td>\n",
       "      <td>-122.15</td>\n",
       "    </tr>\n",
       "    <tr>\n",
       "      <th>8</th>\n",
       "      <td>Monroe</td>\n",
       "      <td>WA</td>\n",
       "      <td>14</td>\n",
       "      <td>47.82</td>\n",
       "      <td>-121.90</td>\n",
       "    </tr>\n",
       "    <tr>\n",
       "      <th>9</th>\n",
       "      <td>Bothell</td>\n",
       "      <td>WA</td>\n",
       "      <td>12</td>\n",
       "      <td>47.79</td>\n",
       "      <td>-122.16</td>\n",
       "    </tr>\n",
       "    <tr>\n",
       "      <th>10</th>\n",
       "      <td>Kenmore</td>\n",
       "      <td>WA</td>\n",
       "      <td>12</td>\n",
       "      <td>47.76</td>\n",
       "      <td>-122.24</td>\n",
       "    </tr>\n",
       "    <tr>\n",
       "      <th>11</th>\n",
       "      <td>Snohomish</td>\n",
       "      <td>WA</td>\n",
       "      <td>10</td>\n",
       "      <td>47.87</td>\n",
       "      <td>-121.94</td>\n",
       "    </tr>\n",
       "    <tr>\n",
       "      <th>12</th>\n",
       "      <td>Duvall</td>\n",
       "      <td>WA</td>\n",
       "      <td>10</td>\n",
       "      <td>47.81</td>\n",
       "      <td>-121.79</td>\n",
       "    </tr>\n",
       "    <tr>\n",
       "      <th>13</th>\n",
       "      <td>Newport Hills</td>\n",
       "      <td>WA</td>\n",
       "      <td>7</td>\n",
       "      <td>47.60</td>\n",
       "      <td>-122.28</td>\n",
       "    </tr>\n",
       "    <tr>\n",
       "      <th>14</th>\n",
       "      <td>Carnation</td>\n",
       "      <td>WA</td>\n",
       "      <td>5</td>\n",
       "      <td>47.69</td>\n",
       "      <td>-121.94</td>\n",
       "    </tr>\n",
       "    <tr>\n",
       "      <th>15</th>\n",
       "      <td>Gold Bar</td>\n",
       "      <td>WA</td>\n",
       "      <td>5</td>\n",
       "      <td>47.75</td>\n",
       "      <td>-121.50</td>\n",
       "    </tr>\n",
       "    <tr>\n",
       "      <th>16</th>\n",
       "      <td>Index</td>\n",
       "      <td>WA</td>\n",
       "      <td>5</td>\n",
       "      <td>47.85</td>\n",
       "      <td>-121.66</td>\n",
       "    </tr>\n",
       "    <tr>\n",
       "      <th>17</th>\n",
       "      <td>Kent</td>\n",
       "      <td>WA</td>\n",
       "      <td>1</td>\n",
       "      <td>47.36</td>\n",
       "      <td>-122.15</td>\n",
       "    </tr>\n",
       "    <tr>\n",
       "      <th>18</th>\n",
       "      <td>Minneapolis</td>\n",
       "      <td>MN</td>\n",
       "      <td>1</td>\n",
       "      <td>45.02</td>\n",
       "      <td>-93.37</td>\n",
       "    </tr>\n",
       "    <tr>\n",
       "      <th>19</th>\n",
       "      <td>San Francisco</td>\n",
       "      <td>CA</td>\n",
       "      <td>1</td>\n",
       "      <td>37.84</td>\n",
       "      <td>-122.35</td>\n",
       "    </tr>\n",
       "  </tbody>\n",
       "</table>\n",
       "</div>"
      ],
      "text/plain": [
       "             City State  employees_by_city  Latitude  Longitude\n",
       "0         Seattle   WA                  44     47.57    -122.23\n",
       "1        Bellevue   WA                  35     47.57    -122.33\n",
       "2         Edmonds   WA                  25     47.77    -122.44\n",
       "3         Redmond   WA                  20     47.64    -122.28\n",
       "4         Everett   WA                  18     47.93    -122.09\n",
       "5       Sammamish   WA                  17     47.68    -121.97\n",
       "6          Renton   WA                  16     47.52    -122.25\n",
       "7        Issaquah   WA                  15     47.55    -122.15\n",
       "8          Monroe   WA                  14     47.82    -121.90\n",
       "9         Bothell   WA                  12     47.79    -122.16\n",
       "10        Kenmore   WA                  12     47.76    -122.24\n",
       "11      Snohomish   WA                  10     47.87    -121.94\n",
       "12         Duvall   WA                  10     47.81    -121.79\n",
       "13  Newport Hills   WA                   7     47.60    -122.28\n",
       "14      Carnation   WA                   5     47.69    -121.94\n",
       "15       Gold Bar   WA                   5     47.75    -121.50\n",
       "16          Index   WA                   5     47.85    -121.66\n",
       "17           Kent   WA                   1     47.36    -122.15\n",
       "18    Minneapolis   MN                   1     45.02     -93.37\n",
       "19  San Francisco   CA                   1     37.84    -122.35"
      ]
     },
     "execution_count": 10,
     "metadata": {},
     "output_type": "execute_result"
    }
   ],
   "source": [
    "city_coordinates = pd.read_csv(\"lat_long_emp_cities.csv\", sep=';', names=['city', 'state', 'latitude', 'longitude'])\n",
    "city_coordinates.to_sql('city_coordinates', con=engine, if_exists='replace', index=False)\n",
    "employee_city_data = pd.read_sql(sql=\"\"\"\n",
    "SELECT \n",
    "\tc.City,\n",
    "    d.StateProvinceCode AS \"State\",\n",
    "\tCOUNT(*) AS employees_by_city,\n",
    "\te.latitude AS \"Latitude\",\n",
    "\te.longitude AS \"Longitude\"\n",
    "\t\t\n",
    "FROM Person.Person AS a LEFT JOIN Person.BusinessEntityAddress AS b\n",
    "\tON a.BusinessEntityID = b.BusinessEntityID LEFT JOIN Person.Address AS c\n",
    "\tON b.AddressID = c.AddressID LEFT JOIN Person.StateProvince AS d\n",
    "\tON c.StateProvinceID = d.StateProvinceID LEFT JOIN city_coordinates AS e\n",
    "\tON c.City = e.city\n",
    " \n",
    "WHERE a.PersonType = 'EM'\n",
    "\n",
    "GROUP BY c.City, d.StateProvinceCode, e.latitude, e.longitude\n",
    "ORDER BY employees_by_city DESC\n",
    ";            \n",
    "            \n",
    "\"\"\" , con=connection)\n",
    "employee_city_data"
   ]
  },
  {
   "cell_type": "markdown",
   "metadata": {},
   "source": [
    "Mapping with plotly:"
   ]
  },
  {
   "cell_type": "code",
   "execution_count": null,
   "metadata": {},
   "outputs": [],
   "source": [
    "fig = px.scatter_map(employee_city_data, lat=\"Latitude\", lon=\"Longitude\", hover_name=\"City\", map_style='light',\n",
    "                     size=\"employees_by_city\", color=\"employees_by_city\", text=\"City\", \n",
    "                     title=\"Employee locations\", center={\"lat\": 47.68, \"lon\": -122.0}, width=800, height=600, zoom=8)\n",
    "fig.update_traces(textposition='top right')"
   ]
  },
  {
   "cell_type": "code",
   "execution_count": null,
   "metadata": {},
   "outputs": [],
   "source": [
    "fig.show()"
   ]
  },
  {
   "cell_type": "markdown",
   "metadata": {},
   "source": [
    "![image](employee_cities.png)"
   ]
  }
 ],
 "metadata": {
  "kernelspec": {
   "display_name": "base",
   "language": "python",
   "name": "python3"
  },
  "language_info": {
   "codemirror_mode": {
    "name": "ipython",
    "version": 3
   },
   "file_extension": ".py",
   "mimetype": "text/x-python",
   "name": "python",
   "nbconvert_exporter": "python",
   "pygments_lexer": "ipython3",
   "version": "3.12.3"
  }
 },
 "nbformat": 4,
 "nbformat_minor": 2
}
